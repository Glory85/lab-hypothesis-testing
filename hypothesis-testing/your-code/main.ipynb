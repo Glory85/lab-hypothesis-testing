{
 "cells": [
  {
   "cell_type": "markdown",
   "metadata": {},
   "source": [
    "# Before your start:\n",
    "- Read the README.md file\n",
    "- Comment as much as you can and use the resources (README.md file)\n",
    "- Happy learning!"
   ]
  },
  {
   "cell_type": "code",
   "execution_count": 1,
   "metadata": {},
   "outputs": [],
   "source": [
    "import numpy as np\n",
    "import pandas as pd\n",
    "import seaborn as sns\n",
    "import scipy.stats as stats\n",
    "import statsmodels.api as sm"
   ]
  },
  {
   "cell_type": "markdown",
   "metadata": {},
   "source": [
    "# Challenge 1 - Exploring the Data\n",
    "\n",
    "In this challenge, we will examine all salaries of employees of the City of Chicago. We will start by loading the dataset and examining its contents"
   ]
  },
  {
   "cell_type": "code",
   "execution_count": 2,
   "metadata": {},
   "outputs": [],
   "source": [
    "salaries = pd.read_csv('Current_Employee_Names__Salaries__and_Position_Titles.csv')"
   ]
  },
  {
   "cell_type": "markdown",
   "metadata": {},
   "source": [
    "Examine the `salaries` dataset using the `head` function below."
   ]
  },
  {
   "cell_type": "code",
   "execution_count": 3,
   "metadata": {},
   "outputs": [
    {
     "data": {
      "text/html": [
       "<div>\n",
       "<style scoped>\n",
       "    .dataframe tbody tr th:only-of-type {\n",
       "        vertical-align: middle;\n",
       "    }\n",
       "\n",
       "    .dataframe tbody tr th {\n",
       "        vertical-align: top;\n",
       "    }\n",
       "\n",
       "    .dataframe thead th {\n",
       "        text-align: right;\n",
       "    }\n",
       "</style>\n",
       "<table border=\"1\" class=\"dataframe\">\n",
       "  <thead>\n",
       "    <tr style=\"text-align: right;\">\n",
       "      <th></th>\n",
       "      <th>Name</th>\n",
       "      <th>Job Titles</th>\n",
       "      <th>Department</th>\n",
       "      <th>Full or Part-Time</th>\n",
       "      <th>Salary or Hourly</th>\n",
       "      <th>Typical Hours</th>\n",
       "      <th>Annual Salary</th>\n",
       "      <th>Hourly Rate</th>\n",
       "    </tr>\n",
       "  </thead>\n",
       "  <tbody>\n",
       "    <tr>\n",
       "      <th>0</th>\n",
       "      <td>AARON,  JEFFERY M</td>\n",
       "      <td>SERGEANT</td>\n",
       "      <td>POLICE</td>\n",
       "      <td>F</td>\n",
       "      <td>Salary</td>\n",
       "      <td>NaN</td>\n",
       "      <td>101442.0</td>\n",
       "      <td>NaN</td>\n",
       "    </tr>\n",
       "    <tr>\n",
       "      <th>1</th>\n",
       "      <td>AARON,  KARINA</td>\n",
       "      <td>POLICE OFFICER (ASSIGNED AS DETECTIVE)</td>\n",
       "      <td>POLICE</td>\n",
       "      <td>F</td>\n",
       "      <td>Salary</td>\n",
       "      <td>NaN</td>\n",
       "      <td>94122.0</td>\n",
       "      <td>NaN</td>\n",
       "    </tr>\n",
       "    <tr>\n",
       "      <th>2</th>\n",
       "      <td>AARON,  KIMBERLEI R</td>\n",
       "      <td>CHIEF CONTRACT EXPEDITER</td>\n",
       "      <td>GENERAL SERVICES</td>\n",
       "      <td>F</td>\n",
       "      <td>Salary</td>\n",
       "      <td>NaN</td>\n",
       "      <td>101592.0</td>\n",
       "      <td>NaN</td>\n",
       "    </tr>\n",
       "    <tr>\n",
       "      <th>3</th>\n",
       "      <td>ABAD JR,  VICENTE M</td>\n",
       "      <td>CIVIL ENGINEER IV</td>\n",
       "      <td>WATER MGMNT</td>\n",
       "      <td>F</td>\n",
       "      <td>Salary</td>\n",
       "      <td>NaN</td>\n",
       "      <td>110064.0</td>\n",
       "      <td>NaN</td>\n",
       "    </tr>\n",
       "    <tr>\n",
       "      <th>4</th>\n",
       "      <td>ABASCAL,  REECE E</td>\n",
       "      <td>TRAFFIC CONTROL AIDE-HOURLY</td>\n",
       "      <td>OEMC</td>\n",
       "      <td>P</td>\n",
       "      <td>Hourly</td>\n",
       "      <td>20.0</td>\n",
       "      <td>NaN</td>\n",
       "      <td>19.86</td>\n",
       "    </tr>\n",
       "  </tbody>\n",
       "</table>\n",
       "</div>"
      ],
      "text/plain": [
       "                  Name                              Job Titles  \\\n",
       "0    AARON,  JEFFERY M                                SERGEANT   \n",
       "1      AARON,  KARINA   POLICE OFFICER (ASSIGNED AS DETECTIVE)   \n",
       "2  AARON,  KIMBERLEI R                CHIEF CONTRACT EXPEDITER   \n",
       "3  ABAD JR,  VICENTE M                       CIVIL ENGINEER IV   \n",
       "4    ABASCAL,  REECE E             TRAFFIC CONTROL AIDE-HOURLY   \n",
       "\n",
       "         Department Full or Part-Time Salary or Hourly  Typical Hours  \\\n",
       "0            POLICE                 F           Salary            NaN   \n",
       "1            POLICE                 F           Salary            NaN   \n",
       "2  GENERAL SERVICES                 F           Salary            NaN   \n",
       "3       WATER MGMNT                 F           Salary            NaN   \n",
       "4              OEMC                 P           Hourly           20.0   \n",
       "\n",
       "   Annual Salary  Hourly Rate  \n",
       "0       101442.0          NaN  \n",
       "1        94122.0          NaN  \n",
       "2       101592.0          NaN  \n",
       "3       110064.0          NaN  \n",
       "4            NaN        19.86  "
      ]
     },
     "execution_count": 3,
     "metadata": {},
     "output_type": "execute_result"
    }
   ],
   "source": [
    "salaries.head()"
   ]
  },
  {
   "cell_type": "markdown",
   "metadata": {},
   "source": [
    "We see from looking at the `head` function that there is quite a bit of missing data. Let's examine how much missing data is in each column. Produce this output in the cell below"
   ]
  },
  {
   "cell_type": "code",
   "execution_count": 4,
   "metadata": {},
   "outputs": [
    {
     "data": {
      "text/plain": [
       "Name                     0\n",
       "Job Titles               0\n",
       "Department               0\n",
       "Full or Part-Time        0\n",
       "Salary or Hourly         0\n",
       "Typical Hours        25161\n",
       "Annual Salary         8022\n",
       "Hourly Rate          25161\n",
       "dtype: int64"
      ]
     },
     "execution_count": 4,
     "metadata": {},
     "output_type": "execute_result"
    }
   ],
   "source": [
    "salaries.isnull().sum()"
   ]
  },
  {
   "cell_type": "markdown",
   "metadata": {},
   "source": [
    "Let's also look at the count of hourly vs. salaried employees. Write the code in the cell below"
   ]
  },
  {
   "cell_type": "code",
   "execution_count": 5,
   "metadata": {},
   "outputs": [
    {
     "data": {
      "text/plain": [
       "Salary    25161\n",
       "Hourly     8022\n",
       "Name: Salary or Hourly, dtype: int64"
      ]
     },
     "execution_count": 5,
     "metadata": {},
     "output_type": "execute_result"
    }
   ],
   "source": [
    "salaries[\"Salary or Hourly\"].value_counts()"
   ]
  },
  {
   "cell_type": "markdown",
   "metadata": {},
   "source": [
    "What this information indicates is that the table contains information about two types of employees - salaried and hourly. Some columns apply only to one type of employee while other columns only apply to another kind. This is why there are so many missing values. Therefore, we will not do anything to handle the missing values."
   ]
  },
  {
   "cell_type": "markdown",
   "metadata": {},
   "source": [
    "There are different departments in the city. List all departments and the count of employees in each department."
   ]
  },
  {
   "cell_type": "code",
   "execution_count": 6,
   "metadata": {},
   "outputs": [
    {
     "data": {
      "text/plain": [
       "POLICE                   13414\n",
       "FIRE                      4641\n",
       "STREETS & SAN             2198\n",
       "OEMC                      2102\n",
       "WATER MGMNT               1879\n",
       "AVIATION                  1629\n",
       "TRANSPORTN                1140\n",
       "PUBLIC LIBRARY            1015\n",
       "GENERAL SERVICES           980\n",
       "FAMILY & SUPPORT           615\n",
       "FINANCE                    560\n",
       "HEALTH                     488\n",
       "CITY COUNCIL               411\n",
       "LAW                        407\n",
       "BUILDINGS                  269\n",
       "COMMUNITY DEVELOPMENT      207\n",
       "BUSINESS AFFAIRS           171\n",
       "COPA                       116\n",
       "BOARD OF ELECTION          107\n",
       "DoIT                        99\n",
       "PROCUREMENT                 92\n",
       "INSPECTOR GEN               87\n",
       "MAYOR'S OFFICE              85\n",
       "CITY CLERK                  84\n",
       "ANIMAL CONTRL               81\n",
       "HUMAN RESOURCES             79\n",
       "CULTURAL AFFAIRS            65\n",
       "BUDGET & MGMT               46\n",
       "ADMIN HEARNG                39\n",
       "DISABILITIES                28\n",
       "TREASURER                   22\n",
       "HUMAN RELATIONS             16\n",
       "BOARD OF ETHICS              8\n",
       "POLICE BOARD                 2\n",
       "LICENSE APPL COMM            1\n",
       "Name: Department, dtype: int64"
      ]
     },
     "execution_count": 6,
     "metadata": {},
     "output_type": "execute_result"
    }
   ],
   "source": [
    "salaries[\"Department\"].value_counts()"
   ]
  },
  {
   "cell_type": "markdown",
   "metadata": {},
   "source": [
    "# Challenge 2 - Hypothesis Tests\n",
    "\n",
    "In this section of the lab, we will test whether the hourly wage of all hourly workers is significantly different from $30/hr. Import the correct one sample test function from scipy and perform the hypothesis test for a 95% two sided confidence interval."
   ]
  },
  {
   "cell_type": "code",
   "execution_count": 7,
   "metadata": {},
   "outputs": [],
   "source": [
    "# Nuestra hipótesis nula es: el salario/ por hora es de 30$/h\n",
    "# Intervalo de confianza = 95% "
   ]
  },
  {
   "cell_type": "code",
   "execution_count": 8,
   "metadata": {},
   "outputs": [],
   "source": [
    "salaries.rename(columns={'Salary or Hourly': 'Salary_or_Hourly'}, inplace = True)"
   ]
  },
  {
   "cell_type": "code",
   "execution_count": 9,
   "metadata": {},
   "outputs": [
    {
     "data": {
      "text/plain": [
       "4        19.86\n",
       "6        46.10\n",
       "7        35.60\n",
       "10        2.65\n",
       "18       17.68\n",
       "         ...  \n",
       "33164    46.10\n",
       "33168    17.68\n",
       "33169    35.60\n",
       "33174    46.35\n",
       "33175    48.85\n",
       "Name: Hourly Rate, Length: 8022, dtype: float64"
      ]
     },
     "execution_count": 9,
     "metadata": {},
     "output_type": "execute_result"
    }
   ],
   "source": [
    "Hourly_Rate = salaries[salaries.Salary_or_Hourly == \"Hourly\"][\"Hourly Rate\"]\n",
    "Hourly_Rate"
   ]
  },
  {
   "cell_type": "code",
   "execution_count": 10,
   "metadata": {},
   "outputs": [
    {
     "name": "stderr",
     "output_type": "stream",
     "text": [
      "C:\\Users\\usuario\\anaconda3\\lib\\site-packages\\seaborn\\distributions.py:2551: FutureWarning: `distplot` is a deprecated function and will be removed in a future version. Please adapt your code to use either `displot` (a figure-level function with similar flexibility) or `histplot` (an axes-level function for histograms).\n",
      "  warnings.warn(msg, FutureWarning)\n"
     ]
    },
    {
     "data": {
      "text/plain": [
       "<AxesSubplot:xlabel='Hourly Rate', ylabel='Density'>"
      ]
     },
     "execution_count": 10,
     "metadata": {},
     "output_type": "execute_result"
    },
    {
     "data": {
      "image/png": "[encoded data removed]",
      "text/plain": [
       "<Figure size 432x288 with 1 Axes>"
      ]
     },
     "metadata": {
      "needs_background": "light"
     },
     "output_type": "display_data"
    }
   ],
   "source": [
    "sns.distplot(Hourly_Rate) #no sigue una distribución normal, pero aun así \"asumimos\" que si"
   ]
  },
  {
   "cell_type": "code",
   "execution_count": 12,
   "metadata": {},
   "outputs": [
    {
     "data": {
      "text/plain": [
       "32.78855771628128"
      ]
     },
     "execution_count": 12,
     "metadata": {},
     "output_type": "execute_result"
    }
   ],
   "source": [
    "sm = np.mean(Hourly_Rate) #media de la muestra\n",
    "sm"
   ]
  },
  {
   "cell_type": "code",
   "execution_count": 13,
   "metadata": {},
   "outputs": [],
   "source": [
    "m = 30"
   ]
  },
  {
   "cell_type": "code",
   "execution_count": 14,
   "metadata": {},
   "outputs": [
    {
     "data": {
      "text/plain": [
       "Ttest_1sampResult(statistic=20.6198057854942, pvalue=4.3230240486229894e-92)"
      ]
     },
     "execution_count": 14,
     "metadata": {},
     "output_type": "execute_result"
    }
   ],
   "source": [
    "stats.ttest_1samp(Hourly_Rate,m)\n",
    "#El p-value es inferior a 0,05 así que rechazaríamos la hipótesis nula"
   ]
  },
  {
   "cell_type": "markdown",
   "metadata": {},
   "source": [
    "We are also curious about salaries in the police force. The chief of police in Chicago claimed in a press briefing that salaries this year are higher than last year's mean of $86000/year a year for all salaried employees. Test this one sided hypothesis using a 95% confidence interval.\n",
    "\n",
    "Hint: A one tailed test has a p-value that is half of the two tailed p-value. If our hypothesis is greater than, then to reject, the test statistic must also be positive."
   ]
  },
  {
   "cell_type": "code",
   "execution_count": 15,
   "metadata": {},
   "outputs": [
    {
     "data": {
      "text/plain": [
       "0        101442.0\n",
       "1         94122.0\n",
       "9         93354.0\n",
       "11        84054.0\n",
       "12        87006.0\n",
       "           ...   \n",
       "33177     72510.0\n",
       "33178     72510.0\n",
       "33179     48078.0\n",
       "33180     90024.0\n",
       "33181     93354.0\n",
       "Name: Annual Salary, Length: 13404, dtype: float64"
      ]
     },
     "execution_count": 15,
     "metadata": {},
     "output_type": "execute_result"
    }
   ],
   "source": [
    "# Ahora hablamos de one sided tail, porqué estamos analisando si el salario es MAYOR. El t-test de scipy solo sirve para 2 sided tests, así que el resultado del p-value tendremos que dividirlo por dos para poder hacer la comparación \n",
    "# Hipótesis nula: Los salarios de este año no son iguales a los del año pasado\n",
    "\n",
    "salaries_police = salaries[(salaries.Salary_or_Hourly == \"Salary\") & (salaries.Department == \"POLICE\")][\"Annual Salary\"]\n",
    "salaries_police"
   ]
  },
  {
   "cell_type": "code",
   "execution_count": 16,
   "metadata": {},
   "outputs": [
    {
     "data": {
      "text/plain": [
       "86486.41450313339"
      ]
     },
     "execution_count": 16,
     "metadata": {},
     "output_type": "execute_result"
    }
   ],
   "source": [
    "sm = np.mean(salaries_police) #media de la muestra \n",
    "sm"
   ]
  },
  {
   "cell_type": "code",
   "execution_count": 17,
   "metadata": {},
   "outputs": [
    {
     "name": "stderr",
     "output_type": "stream",
     "text": [
      "C:\\Users\\usuario\\anaconda3\\lib\\site-packages\\seaborn\\distributions.py:2551: FutureWarning: `distplot` is a deprecated function and will be removed in a future version. Please adapt your code to use either `displot` (a figure-level function with similar flexibility) or `histplot` (an axes-level function for histograms).\n",
      "  warnings.warn(msg, FutureWarning)\n"
     ]
    },
    {
     "data": {
      "text/plain": [
       "<AxesSubplot:xlabel='Annual Salary', ylabel='Density'>"
      ]
     },
     "execution_count": 17,
     "metadata": {},
     "output_type": "execute_result"
    },
    {
     "data": {
      "image/png": "[encoded data removed]",
      "text/plain": [
       "<Figure size 432x288 with 1 Axes>"
      ]
     },
     "metadata": {
      "needs_background": "light"
     },
     "output_type": "display_data"
    }
   ],
   "source": [
    "sns.distplot(salaries_police) #esta parece un poquito más normal"
   ]
  },
  {
   "cell_type": "code",
   "execution_count": 18,
   "metadata": {},
   "outputs": [],
   "source": [
    "m = 86000"
   ]
  },
  {
   "cell_type": "code",
   "execution_count": 19,
   "metadata": {},
   "outputs": [
    {
     "data": {
      "text/plain": [
       "Ttest_1sampResult(statistic=3.081997005712994, pvalue=0.0020603403550965137)"
      ]
     },
     "execution_count": 19,
     "metadata": {},
     "output_type": "execute_result"
    }
   ],
   "source": [
    "stats.ttest_1samp(salaries_police,m)\n",
    "# el pvalue / 2 es inferior a 0,05 --> rechazamos la hipótesis nula de que los salarios son iguales \n",
    "# podemos afirmar que no solo no son iguales, sino que estos son superiores a 86k, ya que el estadístico ha dado positivo. \n",
    "# Rechazamos la hipótesis nula, lo que significa que el jefe de policia tenía razón. "
   ]
  },
  {
   "cell_type": "markdown",
   "metadata": {},
   "source": [
    "Using the `crosstab` function, find the department that has the most hourly workers. "
   ]
  },
  {
   "cell_type": "code",
   "execution_count": 20,
   "metadata": {},
   "outputs": [
    {
     "data": {
      "text/html": [
       "<div>\n",
       "<style scoped>\n",
       "    .dataframe tbody tr th:only-of-type {\n",
       "        vertical-align: middle;\n",
       "    }\n",
       "\n",
       "    .dataframe tbody tr th {\n",
       "        vertical-align: top;\n",
       "    }\n",
       "\n",
       "    .dataframe thead th {\n",
       "        text-align: right;\n",
       "    }\n",
       "</style>\n",
       "<table border=\"1\" class=\"dataframe\">\n",
       "  <thead>\n",
       "    <tr style=\"text-align: right;\">\n",
       "      <th>Salary_or_Hourly</th>\n",
       "      <th>Hourly</th>\n",
       "      <th>Salary</th>\n",
       "    </tr>\n",
       "    <tr>\n",
       "      <th>Department</th>\n",
       "      <th></th>\n",
       "      <th></th>\n",
       "    </tr>\n",
       "  </thead>\n",
       "  <tbody>\n",
       "    <tr>\n",
       "      <th>STREETS &amp; SAN</th>\n",
       "      <td>1862</td>\n",
       "      <td>336</td>\n",
       "    </tr>\n",
       "  </tbody>\n",
       "</table>\n",
       "</div>"
      ],
      "text/plain": [
       "Salary_or_Hourly  Hourly  Salary\n",
       "Department                      \n",
       "STREETS & SAN       1862     336"
      ]
     },
     "execution_count": 20,
     "metadata": {},
     "output_type": "execute_result"
    }
   ],
   "source": [
    "pd.crosstab(salaries.Department, salaries.Salary_or_Hourly).sort_values(by=\"Hourly\", ascending = False).head(1)\n",
    "#the department with most hourly workers is \"Streets & San\""
   ]
  },
  {
   "cell_type": "markdown",
   "metadata": {},
   "source": [
    "The workers from the department with the most hourly workers have complained that their hourly wage is less than $35/hour. Using a one sample t-test, test this one-sided hypothesis at the 95% confidence level."
   ]
  },
  {
   "cell_type": "code",
   "execution_count": 21,
   "metadata": {},
   "outputs": [
    {
     "data": {
      "text/plain": [
       "7        35.60\n",
       "21       21.43\n",
       "24       35.60\n",
       "36       36.21\n",
       "39       35.60\n",
       "         ...  \n",
       "33106    36.13\n",
       "33107    35.60\n",
       "33147    35.60\n",
       "33149    36.21\n",
       "33156    22.12\n",
       "Name: Hourly Rate, Length: 1862, dtype: float64"
      ]
     },
     "execution_count": 21,
     "metadata": {},
     "output_type": "execute_result"
    }
   ],
   "source": [
    "salaries_streetssan = salaries[(salaries.Salary_or_Hourly == \"Hourly\") & (salaries.Department == \"STREETS & SAN\")][\"Hourly Rate\"]\n",
    "salaries_streetssan"
   ]
  },
  {
   "cell_type": "code",
   "execution_count": 22,
   "metadata": {},
   "outputs": [
    {
     "data": {
      "text/plain": [
       "33.728378088076845"
      ]
     },
     "execution_count": 22,
     "metadata": {},
     "output_type": "execute_result"
    }
   ],
   "source": [
    "sm = np.mean(salaries_streetssan)\n",
    "sm"
   ]
  },
  {
   "cell_type": "code",
   "execution_count": 23,
   "metadata": {},
   "outputs": [
    {
     "name": "stderr",
     "output_type": "stream",
     "text": [
      "C:\\Users\\usuario\\anaconda3\\lib\\site-packages\\seaborn\\distributions.py:2551: FutureWarning: `distplot` is a deprecated function and will be removed in a future version. Please adapt your code to use either `displot` (a figure-level function with similar flexibility) or `histplot` (an axes-level function for histograms).\n",
      "  warnings.warn(msg, FutureWarning)\n"
     ]
    },
    {
     "data": {
      "text/plain": [
       "<AxesSubplot:xlabel='Hourly Rate', ylabel='Density'>"
      ]
     },
     "execution_count": 23,
     "metadata": {},
     "output_type": "execute_result"
    },
    {
     "data": {
      "image/png": "[encoded data removed]",
      "text/plain": [
       "<Figure size 432x288 with 1 Axes>"
      ]
     },
     "metadata": {
      "needs_background": "light"
     },
     "output_type": "display_data"
    }
   ],
   "source": [
    "sns.distplot(salaries_streetssan)"
   ]
  },
  {
   "cell_type": "code",
   "execution_count": 24,
   "metadata": {},
   "outputs": [],
   "source": [
    "m = 35"
   ]
  },
  {
   "cell_type": "code",
   "execution_count": 25,
   "metadata": {},
   "outputs": [
    {
     "data": {
      "text/plain": [
       "Ttest_1sampResult(statistic=-9.567447887848152, pvalue=3.3378530564707717e-21)"
      ]
     },
     "execution_count": 25,
     "metadata": {},
     "output_type": "execute_result"
    }
   ],
   "source": [
    "stats.ttest_1samp(salaries_streetssan,m)"
   ]
  },
  {
   "cell_type": "code",
   "execution_count": 26,
   "metadata": {},
   "outputs": [],
   "source": [
    "# Nuestra hipótesis nula es que la media del salario de los trabajadores a este departamento es igual que la media de nuestra muestra \n",
    "# Nuestro p-value/2 es inferior a 0,05 lo que significa que rechazamos nuestra hipótesis nula (las medias no son iguales) y además podemos afirmar que la media es inferior a 35/hora, ya que nuestro estadístico ha dado negativo.  "
   ]
  },
  {
   "cell_type": "markdown",
   "metadata": {},
   "source": [
    "# Challenge 3 - Constructing Confidence Intervals\n",
    "\n",
    "While testing our hypothesis is a great way to gather empirical evidence for accepting or rejecting the hypothesis, another way to gather evidence is by creating a confidence interval. A confidence interval gives us information about the true mean of the population. So for a 95% confidence interval, we are 95% sure that the mean of the population is within the confidence interval. \n",
    ").\n",
    "\n",
    "To read more about confidence intervals, click [here](https://en.wikipedia.org/wiki/Confidence_interval).\n",
    "\n",
    "\n",
    "In the cell below, we will construct a 95% confidence interval for the mean hourly wage of all hourly workers. \n",
    "\n",
    "The confidence interval is computed in SciPy using the `t.interval` function. You can read more about this function [here](https://docs.scipy.org/doc/scipy-0.14.0/reference/generated/scipy.stats.t.html).\n",
    "\n",
    "To compute the confidence interval of the hourly wage, use the 0.95 for the confidence level, number of rows - 1 for degrees of freedom, the mean of the sample for the location parameter and the standard error for the scale. The standard error can be computed using [this](https://docs.scipy.org/doc/scipy/reference/generated/scipy.stats.sem.html) function in SciPy."
   ]
  },
  {
   "cell_type": "code",
   "execution_count": 33,
   "metadata": {},
   "outputs": [
    {
     "data": {
      "text/plain": [
       "4        19.86\n",
       "6        46.10\n",
       "7        35.60\n",
       "10        2.65\n",
       "18       17.68\n",
       "         ...  \n",
       "33164    46.10\n",
       "33168    17.68\n",
       "33169    35.60\n",
       "33174    46.35\n",
       "33175    48.85\n",
       "Name: Hourly Rate, Length: 8022, dtype: float64"
      ]
     },
     "execution_count": 33,
     "metadata": {},
     "output_type": "execute_result"
    }
   ],
   "source": [
    "Hourly_Rate"
   ]
  },
  {
   "cell_type": "code",
   "execution_count": 34,
   "metadata": {},
   "outputs": [
    {
     "data": {
      "text/plain": [
       "32.78855771628128"
      ]
     },
     "execution_count": 34,
     "metadata": {},
     "output_type": "execute_result"
    }
   ],
   "source": [
    "sm = np.mean(Hourly_Rate)\n",
    "sm #media de la muestra "
   ]
  },
  {
   "cell_type": "code",
   "execution_count": 35,
   "metadata": {},
   "outputs": [
    {
     "data": {
      "text/plain": [
       "8022"
      ]
     },
     "execution_count": 35,
     "metadata": {},
     "output_type": "execute_result"
    }
   ],
   "source": [
    "n = len(Hourly_Rate) #tamaño de la muestra \n",
    "n"
   ]
  },
  {
   "cell_type": "code",
   "execution_count": 36,
   "metadata": {},
   "outputs": [
    {
     "data": {
      "text/plain": [
       "0.1352368565101596"
      ]
     },
     "execution_count": 36,
     "metadata": {},
     "output_type": "execute_result"
    }
   ],
   "source": [
    "se = stats.sem(Hourly_Rate)\n",
    "se #standard error"
   ]
  },
  {
   "cell_type": "code",
   "execution_count": 37,
   "metadata": {},
   "outputs": [],
   "source": [
    "from scipy.stats import t\n",
    "from scipy.stats import sem"
   ]
  },
  {
   "cell_type": "code",
   "execution_count": 38,
   "metadata": {},
   "outputs": [
    {
     "data": {
      "text/plain": [
       "(32.52345834488529, 33.05365708767727)"
      ]
     },
     "execution_count": 38,
     "metadata": {},
     "output_type": "execute_result"
    }
   ],
   "source": [
    "t.interval(0.95, (n-1) , loc=sm, scale=se)"
   ]
  },
  {
   "cell_type": "markdown",
   "metadata": {},
   "source": [
    "Now construct the 95% confidence interval for all salaried employeed in the police in the cell below."
   ]
  },
  {
   "cell_type": "code",
   "execution_count": 39,
   "metadata": {},
   "outputs": [
    {
     "data": {
      "text/plain": [
       "0        101442.0\n",
       "1         94122.0\n",
       "9         93354.0\n",
       "11        84054.0\n",
       "12        87006.0\n",
       "           ...   \n",
       "33177     72510.0\n",
       "33178     72510.0\n",
       "33179     48078.0\n",
       "33180     90024.0\n",
       "33181     93354.0\n",
       "Name: Annual Salary, Length: 13404, dtype: float64"
      ]
     },
     "execution_count": 39,
     "metadata": {},
     "output_type": "execute_result"
    }
   ],
   "source": [
    "salaries_police"
   ]
  },
  {
   "cell_type": "code",
   "execution_count": 40,
   "metadata": {},
   "outputs": [
    {
     "data": {
      "text/plain": [
       "86486.41450313339"
      ]
     },
     "execution_count": 40,
     "metadata": {},
     "output_type": "execute_result"
    }
   ],
   "source": [
    "sm = np.mean(salaries_police)\n",
    "sm"
   ]
  },
  {
   "cell_type": "code",
   "execution_count": 41,
   "metadata": {},
   "outputs": [
    {
     "data": {
      "text/plain": [
       "13404"
      ]
     },
     "execution_count": 41,
     "metadata": {},
     "output_type": "execute_result"
    }
   ],
   "source": [
    "n = len(salaries_police) #tamaño de la muestra \n",
    "n"
   ]
  },
  {
   "cell_type": "code",
   "execution_count": 42,
   "metadata": {},
   "outputs": [
    {
     "data": {
      "text/plain": [
       "157.82445675052244"
      ]
     },
     "execution_count": 42,
     "metadata": {},
     "output_type": "execute_result"
    }
   ],
   "source": [
    "se = stats.sem(salaries_police)\n",
    "se"
   ]
  },
  {
   "cell_type": "code",
   "execution_count": 43,
   "metadata": {},
   "outputs": [
    {
     "data": {
      "text/plain": [
       "(86177.05631531784, 86795.77269094894)"
      ]
     },
     "execution_count": 43,
     "metadata": {},
     "output_type": "execute_result"
    }
   ],
   "source": [
    "t.interval(0.95, (n-1) , loc=sm, scale=se) \n",
    "#tenemos un 95% de confianzade que le media de los salarios de los policias está nte 86.177€ y 86.795€"
   ]
  },
  {
   "cell_type": "markdown",
   "metadata": {},
   "source": [
    "# Challenge 4 - Hypothesis Tests of Proportions\n",
    "\n",
    "Another type of one sample test is a hypothesis test of proportions. In this test, we examine whether the proportion of a group in our sample is significantly different than a fraction. \n",
    "\n",
    "You can read more about one sample proportion tests [here](http://sphweb.bumc.bu.edu/otlt/MPH-Modules/BS/SAS/SAS6-CategoricalData/SAS6-CategoricalData2.html).\n",
    "\n",
    "In the cell below, use the `proportions_ztest` function from `statsmodels` to perform a hypothesis test that will determine whether the number of hourly workers in the City of Chicago is significantly different from 25% at the 95% confidence level."
   ]
  },
  {
   "cell_type": "code",
   "execution_count": 44,
   "metadata": {},
   "outputs": [],
   "source": [
    "from statsmodels.stats.proportion import proportions_ztest"
   ]
  },
  {
   "cell_type": "code",
   "execution_count": 45,
   "metadata": {},
   "outputs": [],
   "source": [
    "# hipótesis nula: el número de hourly workers en la ciudad de Chicago es de un 25% "
   ]
  },
  {
   "cell_type": "code",
   "execution_count": 46,
   "metadata": {},
   "outputs": [
    {
     "data": {
      "text/plain": [
       "0.24175029382515142"
      ]
     },
     "execution_count": 46,
     "metadata": {},
     "output_type": "execute_result"
    }
   ],
   "source": [
    "sample_proportion = salaries.Salary_or_Hourly.value_counts(normalize=True)[1]\n",
    "sample_proportion"
   ]
  },
  {
   "cell_type": "code",
   "execution_count": 50,
   "metadata": {},
   "outputs": [
    {
     "data": {
      "text/plain": [
       "8022"
      ]
     },
     "execution_count": 50,
     "metadata": {},
     "output_type": "execute_result"
    }
   ],
   "source": [
    "sample_success = salaries.Salary_or_Hourly.value_counts()[1]\n",
    "sample_success"
   ]
  },
  {
   "cell_type": "code",
   "execution_count": 51,
   "metadata": {},
   "outputs": [
    {
     "data": {
      "text/plain": [
       "33183"
      ]
     },
     "execution_count": 51,
     "metadata": {},
     "output_type": "execute_result"
    }
   ],
   "source": [
    "sample_size = len(salaries.Salary_or_Hourly)\n",
    "sample_size"
   ]
  },
  {
   "cell_type": "code",
   "execution_count": 52,
   "metadata": {},
   "outputs": [
    {
     "data": {
      "text/plain": [
       "(-3.5099964213703005, 0.0004481127249057967)"
      ]
     },
     "execution_count": 52,
     "metadata": {},
     "output_type": "execute_result"
    }
   ],
   "source": [
    "stat, p_value = proportions_ztest(count=sample_success, nobs=sample_size, value=0.25)\n",
    "stat, p_value"
   ]
  },
  {
   "cell_type": "code",
   "execution_count": 53,
   "metadata": {},
   "outputs": [],
   "source": [
    "#el pvalue es inferior a 0,05, lo que significa que rechazamos la hipótesis nula, es decir, si que es diferente a un 25%"
   ]
  }
 ],
 "metadata": {
  "kernelspec": {
   "display_name": "Python 3",
   "language": "python",
   "name": "python3"
  },
  "language_info": {
   "codemirror_mode": {
    "name": "ipython",
    "version": 3
   },
   "file_extension": ".py",
   "mimetype": "text/x-python",
   "name": "python",
   "nbconvert_exporter": "python",
   "pygments_lexer": "ipython3",
   "version": "3.8.5"
  },
  "toc": {
   "base_numbering": 1,
   "nav_menu": {},
   "number_sections": true,
   "sideBar": true,
   "skip_h1_title": false,
   "title_cell": "Table of Contents",
   "title_sidebar": "Contents",
   "toc_cell": false,
   "toc_position": {},
   "toc_section_display": true,
   "toc_window_display": false
  },
  "varInspector": {
   "cols": {
    "lenName": 16,
    "lenType": 16,
    "lenVar": 40
   },
   "kernels_config": {
    "python": {
     "delete_cmd_postfix": "",
     "delete_cmd_prefix": "del ",
     "library": "var_list.py",
     "varRefreshCmd": "print(var_dic_list())"
    },
    "r": {
     "delete_cmd_postfix": ") ",
     "delete_cmd_prefix": "rm(",
     "library": "var_list.r",
     "varRefreshCmd": "cat(var_dic_list()) "
    }
   },
   "types_to_exclude": [
    "module",
    "function",
    "builtin_function_or_method",
    "instance",
    "_Feature"
   ],
   "window_display": false
  }
 },
 "nbformat": 4,
 "nbformat_minor": 2
}
